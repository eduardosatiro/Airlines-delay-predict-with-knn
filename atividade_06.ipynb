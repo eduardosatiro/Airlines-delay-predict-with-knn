{
 "cells": [
  {
   "cell_type": "code",
   "execution_count": 1,
   "id": "993db9cb",
   "metadata": {},
   "outputs": [],
   "source": [
    "import numpy as np\n",
    "import pandas as pd\n",
    "from sklearn.ensemble import RandomForestClassifier\n",
    "from sklearn.neighbors import KNeighborsClassifier\n",
    "from sklearn.model_selection import KFold\n",
    "from sklearn.metrics import accuracy_score\n",
    "import matplotlib.pyplot as plt\n",
    "import seaborn as sns\n",
    "from scipy.stats import norm\n",
    "from sklearn import preprocessing\n",
    "from sklearn.metrics import confusion_matrix"
   ]
  },
  {
   "cell_type": "code",
   "execution_count": 2,
   "id": "48d7b1ce",
   "metadata": {},
   "outputs": [],
   "source": [
    "df_airlines = pd.read_csv(\"datasets/airlines_delay.csv\")"
   ]
  },
  {
   "cell_type": "code",
   "execution_count": 3,
   "id": "f77d68f6",
   "metadata": {},
   "outputs": [
    {
     "data": {
      "text/html": [
       "<div>\n",
       "<style scoped>\n",
       "    .dataframe tbody tr th:only-of-type {\n",
       "        vertical-align: middle;\n",
       "    }\n",
       "\n",
       "    .dataframe tbody tr th {\n",
       "        vertical-align: top;\n",
       "    }\n",
       "\n",
       "    .dataframe thead th {\n",
       "        text-align: right;\n",
       "    }\n",
       "</style>\n",
       "<table border=\"1\" class=\"dataframe\">\n",
       "  <thead>\n",
       "    <tr style=\"text-align: right;\">\n",
       "      <th></th>\n",
       "      <th>Flight</th>\n",
       "      <th>Time</th>\n",
       "      <th>Length</th>\n",
       "      <th>Airline</th>\n",
       "      <th>AirportFrom</th>\n",
       "      <th>AirportTo</th>\n",
       "      <th>DayOfWeek</th>\n",
       "      <th>Class</th>\n",
       "    </tr>\n",
       "  </thead>\n",
       "  <tbody>\n",
       "    <tr>\n",
       "      <th>0</th>\n",
       "      <td>2313.0</td>\n",
       "      <td>1296.0</td>\n",
       "      <td>141.0</td>\n",
       "      <td>DL</td>\n",
       "      <td>ATL</td>\n",
       "      <td>HOU</td>\n",
       "      <td>1</td>\n",
       "      <td>0</td>\n",
       "    </tr>\n",
       "    <tr>\n",
       "      <th>1</th>\n",
       "      <td>6948.0</td>\n",
       "      <td>360.0</td>\n",
       "      <td>146.0</td>\n",
       "      <td>OO</td>\n",
       "      <td>COS</td>\n",
       "      <td>ORD</td>\n",
       "      <td>4</td>\n",
       "      <td>0</td>\n",
       "    </tr>\n",
       "    <tr>\n",
       "      <th>2</th>\n",
       "      <td>1247.0</td>\n",
       "      <td>1170.0</td>\n",
       "      <td>143.0</td>\n",
       "      <td>B6</td>\n",
       "      <td>BOS</td>\n",
       "      <td>CLT</td>\n",
       "      <td>3</td>\n",
       "      <td>0</td>\n",
       "    </tr>\n",
       "    <tr>\n",
       "      <th>3</th>\n",
       "      <td>31.0</td>\n",
       "      <td>1410.0</td>\n",
       "      <td>344.0</td>\n",
       "      <td>US</td>\n",
       "      <td>OGG</td>\n",
       "      <td>PHX</td>\n",
       "      <td>6</td>\n",
       "      <td>0</td>\n",
       "    </tr>\n",
       "    <tr>\n",
       "      <th>4</th>\n",
       "      <td>563.0</td>\n",
       "      <td>692.0</td>\n",
       "      <td>98.0</td>\n",
       "      <td>FL</td>\n",
       "      <td>BMI</td>\n",
       "      <td>ATL</td>\n",
       "      <td>4</td>\n",
       "      <td>0</td>\n",
       "    </tr>\n",
       "    <tr>\n",
       "      <th>...</th>\n",
       "      <td>...</td>\n",
       "      <td>...</td>\n",
       "      <td>...</td>\n",
       "      <td>...</td>\n",
       "      <td>...</td>\n",
       "      <td>...</td>\n",
       "      <td>...</td>\n",
       "      <td>...</td>\n",
       "    </tr>\n",
       "    <tr>\n",
       "      <th>539377</th>\n",
       "      <td>6973.0</td>\n",
       "      <td>530.0</td>\n",
       "      <td>72.0</td>\n",
       "      <td>OO</td>\n",
       "      <td>GEG</td>\n",
       "      <td>SEA</td>\n",
       "      <td>5</td>\n",
       "      <td>1</td>\n",
       "    </tr>\n",
       "    <tr>\n",
       "      <th>539378</th>\n",
       "      <td>1264.0</td>\n",
       "      <td>560.0</td>\n",
       "      <td>115.0</td>\n",
       "      <td>WN</td>\n",
       "      <td>LAS</td>\n",
       "      <td>DEN</td>\n",
       "      <td>4</td>\n",
       "      <td>1</td>\n",
       "    </tr>\n",
       "    <tr>\n",
       "      <th>539379</th>\n",
       "      <td>5209.0</td>\n",
       "      <td>827.0</td>\n",
       "      <td>74.0</td>\n",
       "      <td>EV</td>\n",
       "      <td>CAE</td>\n",
       "      <td>ATL</td>\n",
       "      <td>2</td>\n",
       "      <td>1</td>\n",
       "    </tr>\n",
       "    <tr>\n",
       "      <th>539380</th>\n",
       "      <td>607.0</td>\n",
       "      <td>715.0</td>\n",
       "      <td>65.0</td>\n",
       "      <td>WN</td>\n",
       "      <td>BWI</td>\n",
       "      <td>BUF</td>\n",
       "      <td>4</td>\n",
       "      <td>1</td>\n",
       "    </tr>\n",
       "    <tr>\n",
       "      <th>539381</th>\n",
       "      <td>6377.0</td>\n",
       "      <td>770.0</td>\n",
       "      <td>55.0</td>\n",
       "      <td>OO</td>\n",
       "      <td>CPR</td>\n",
       "      <td>DEN</td>\n",
       "      <td>2</td>\n",
       "      <td>1</td>\n",
       "    </tr>\n",
       "  </tbody>\n",
       "</table>\n",
       "<p>539382 rows × 8 columns</p>\n",
       "</div>"
      ],
      "text/plain": [
       "        Flight    Time  Length Airline AirportFrom AirportTo  DayOfWeek  Class\n",
       "0       2313.0  1296.0   141.0      DL         ATL       HOU          1      0\n",
       "1       6948.0   360.0   146.0      OO         COS       ORD          4      0\n",
       "2       1247.0  1170.0   143.0      B6         BOS       CLT          3      0\n",
       "3         31.0  1410.0   344.0      US         OGG       PHX          6      0\n",
       "4        563.0   692.0    98.0      FL         BMI       ATL          4      0\n",
       "...        ...     ...     ...     ...         ...       ...        ...    ...\n",
       "539377  6973.0   530.0    72.0      OO         GEG       SEA          5      1\n",
       "539378  1264.0   560.0   115.0      WN         LAS       DEN          4      1\n",
       "539379  5209.0   827.0    74.0      EV         CAE       ATL          2      1\n",
       "539380   607.0   715.0    65.0      WN         BWI       BUF          4      1\n",
       "539381  6377.0   770.0    55.0      OO         CPR       DEN          2      1\n",
       "\n",
       "[539382 rows x 8 columns]"
      ]
     },
     "execution_count": 3,
     "metadata": {},
     "output_type": "execute_result"
    }
   ],
   "source": [
    "df_airlines"
   ]
  },
  {
   "cell_type": "code",
   "execution_count": 4,
   "id": "30429f6c",
   "metadata": {},
   "outputs": [],
   "source": [
    "#df_X = df_airlines.drop(\"Class\", axis = 1)"
   ]
  },
  {
   "cell_type": "code",
   "execution_count": 5,
   "id": "76afdbb8",
   "metadata": {},
   "outputs": [],
   "source": [
    "#df_Y = df_airlines[\"Class\"]"
   ]
  },
  {
   "cell_type": "code",
   "execution_count": 6,
   "id": "5af225f3",
   "metadata": {},
   "outputs": [],
   "source": [
    "#\n",
    "# Pré-processamento\n",
    "#"
   ]
  },
  {
   "cell_type": "code",
   "execution_count": 7,
   "id": "56e01e72",
   "metadata": {},
   "outputs": [],
   "source": [
    "airlines_fetuares_cat = [\"Airline\", \"AirportFrom\", \"AirportTo\", \"DayOfWeek\"]\n",
    "airlines_fetuares_num = [\"Flight\", \"Time\", \"Length\", ]\n",
    "airlines_target = [\"Class\"]"
   ]
  },
  {
   "cell_type": "code",
   "execution_count": 8,
   "id": "4f70e29a",
   "metadata": {},
   "outputs": [],
   "source": [
    "df_airlines_cat = pd.DataFrame()\n",
    "\n",
    "le_airlines_airline = preprocessing.LabelEncoder()\n",
    "le_airlines_portFrom = preprocessing.LabelEncoder()\n",
    "le_airlines_portTo = preprocessing.LabelEncoder()\n",
    "\n",
    "le_airlines_airline.fit(df_airlines[\"Airline\"])\n",
    "le_airlines_portFrom.fit(df_airlines[\"AirportFrom\"])\n",
    "le_airlines_portTo.fit(df_airlines[\"AirportTo\"])\n",
    "\n",
    "df_airlines_cat[\"Airline\"] = le_airlines_airline.transform(df_airlines[\"Airline\"])\n",
    "df_airlines_cat[\"AirportFrom\"] = le_airlines_portFrom.transform(df_airlines[\"AirportFrom\"])\n",
    "df_airlines_cat[\"AirportTo\"] = le_airlines_portTo.transform(df_airlines[\"AirportTo\"])\n",
    "\n",
    "df_airlines_cat[\"DayOfWeek\"] = df_airlines[\"DayOfWeek\"]\n",
    "\n",
    "df_airlines_num = df_airlines[airlines_fetuares_num]\n",
    "df_airlines_target = df_airlines[\"Class\"]"
   ]
  },
  {
   "cell_type": "code",
   "execution_count": 9,
   "id": "ac1f9b68",
   "metadata": {},
   "outputs": [],
   "source": [
    "# Gráficos"
   ]
  },
  {
   "cell_type": "code",
   "execution_count": 10,
   "id": "7db79c89",
   "metadata": {},
   "outputs": [
    {
     "data": {
      "image/png": "[encoded data removed]",
      "text/plain": [
       "<Figure size 2000x2000 with 25 Axes>"
      ]
     },
     "metadata": {},
     "output_type": "display_data"
    }
   ],
   "source": [
    "df_airlines_num.plot(kind='box',subplots = True,layout = (5,5),figsize = (20,20))\n",
    "plt.show()"
   ]
  },
  {
   "cell_type": "code",
   "execution_count": 11,
   "id": "d60459a3",
   "metadata": {},
   "outputs": [
    {
     "data": {
      "image/png": "[encoded data removed]",
      "text/plain": [
       "<Figure size 700x700 with 4 Axes>"
      ]
     },
     "metadata": {},
     "output_type": "display_data"
    }
   ],
   "source": [
    "fig, axes = plt.subplots(2, 2, figsize=(7, 7))\n",
    "\n",
    "df_airlines[\"Airline\"].value_counts().plot(kind=\"bar\", ax=axes[0, 0], title=\"Airline\")\n",
    "\n",
    "df_airlines[\"AirportFrom\"].value_counts().plot(kind=\"bar\", ax=axes[1, 0], title=\"AirportFrom\")\n",
    "\n",
    "df_airlines[\"AirportTo\"].value_counts().plot(kind=\"bar\", ax=axes[0, 1], title=\"AirportTo\")\n",
    "\n",
    "df_airlines[\"DayOfWeek\"].value_counts().plot(kind=\"bar\", ax=axes[1, 1], title=\"DayOfWeek\")\n",
    "\n",
    "#df_airlines[f].value_counts().plot(kind=\"bar\", ax=axes[i], title=f)\n",
    "\n",
    "#df_airlines[f].value_counts().plot(kind=\"bar\", ax=axes[i], title=f)\n",
    "\n",
    "#df_airlines[f].value_counts().plot(kind=\"bar\", ax=axes[i], title=f)\n",
    "\n",
    "\n",
    "#axes[0].set_ylabel(\"Count\")\n",
    "#axes[1].set_xticklabels([])\n",
    "#axes[1].set_xlabel(\"Airports From\")\n",
    "#axes[2].set_xticklabels([])\n",
    "#axes[2].set_xlabel(\"Airports To\")\n",
    "\n",
    "plt.tight_layout()\n",
    "plt.show()"
   ]
  },
  {
   "cell_type": "code",
   "execution_count": 12,
   "id": "3f5f40f1",
   "metadata": {},
   "outputs": [
    {
     "data": {
      "image/png": "[encoded data removed]",
      "text/plain": [
       "<Figure size 640x480 with 1 Axes>"
      ]
     },
     "metadata": {},
     "output_type": "display_data"
    }
   ],
   "source": [
    "df_airlines[\"AirportTo\"].value_counts().plot(kind=\"bar\", title=\"AirportTo\")\n",
    "plt.show()"
   ]
  },
  {
   "cell_type": "code",
   "execution_count": 13,
   "id": "5ed4477b",
   "metadata": {},
   "outputs": [
    {
     "data": {
      "image/png": "[encoded data removed]",
      "text/plain": [
       "<Figure size 1500x500 with 3 Axes>"
      ]
     },
     "metadata": {},
     "output_type": "display_data"
    }
   ],
   "source": [
    "fig, axes = plt.subplots(1, 3, figsize=(15, 5))\n",
    "\n",
    "for i, f in enumerate(airlines_fetuares_num):\n",
    "    df_airlines[f].value_counts().plot(kind=\"bar\", ax=axes[i], title=f)\n",
    "    \n",
    "\n",
    "plt.tight_layout()\n",
    "plt.show()"
   ]
  },
  {
   "cell_type": "code",
   "execution_count": 14,
   "id": "bdc86cac",
   "metadata": {},
   "outputs": [
    {
     "data": {
      "text/plain": [
       "[Text(0, 0, 'Pontual'), Text(1, 0, 'Atrasado')]"
      ]
     },
     "execution_count": 14,
     "metadata": {},
     "output_type": "execute_result"
    },
    {
     "data": {
      "image/png": "[encoded data removed]",
      "text/plain": [
       "<Figure size 300x300 with 1 Axes>"
      ]
     },
     "metadata": {},
     "output_type": "display_data"
    }
   ],
   "source": [
    "fig, ax = plt.subplots(figsize=(3, 3))\n",
    "\n",
    "df_airlines_target.value_counts().plot(kind=\"bar\")\n",
    "\n",
    "ax.set_xticklabels([\"Pontual\", \"Atrasado\"], rotation = 0)"
   ]
  },
  {
   "cell_type": "code",
   "execution_count": null,
   "id": "ddd123e3",
   "metadata": {},
   "outputs": [],
   "source": []
  },
  {
   "cell_type": "code",
   "execution_count": null,
   "id": "ed3e6c2b",
   "metadata": {},
   "outputs": [],
   "source": []
  },
  {
   "cell_type": "code",
   "execution_count": 15,
   "id": "c4eab524",
   "metadata": {},
   "outputs": [],
   "source": [
    "df_airlines_features = pd.concat([df_airlines_cat, df_airlines_num], axis = 1)"
   ]
  },
  {
   "cell_type": "code",
   "execution_count": 16,
   "id": "4365719b",
   "metadata": {},
   "outputs": [
    {
     "data": {
      "text/html": [
       "<div>\n",
       "<style scoped>\n",
       "    .dataframe tbody tr th:only-of-type {\n",
       "        vertical-align: middle;\n",
       "    }\n",
       "\n",
       "    .dataframe tbody tr th {\n",
       "        vertical-align: top;\n",
       "    }\n",
       "\n",
       "    .dataframe thead th {\n",
       "        text-align: right;\n",
       "    }\n",
       "</style>\n",
       "<table border=\"1\" class=\"dataframe\">\n",
       "  <thead>\n",
       "    <tr style=\"text-align: right;\">\n",
       "      <th></th>\n",
       "      <th>Airline</th>\n",
       "      <th>AirportFrom</th>\n",
       "      <th>AirportTo</th>\n",
       "      <th>DayOfWeek</th>\n",
       "      <th>Flight</th>\n",
       "      <th>Time</th>\n",
       "      <th>Length</th>\n",
       "    </tr>\n",
       "  </thead>\n",
       "  <tbody>\n",
       "    <tr>\n",
       "      <th>0</th>\n",
       "      <td>5</td>\n",
       "      <td>16</td>\n",
       "      <td>129</td>\n",
       "      <td>1</td>\n",
       "      <td>2313.0</td>\n",
       "      <td>1296.0</td>\n",
       "      <td>141.0</td>\n",
       "    </tr>\n",
       "    <tr>\n",
       "      <th>1</th>\n",
       "      <td>12</td>\n",
       "      <td>65</td>\n",
       "      <td>208</td>\n",
       "      <td>4</td>\n",
       "      <td>6948.0</td>\n",
       "      <td>360.0</td>\n",
       "      <td>146.0</td>\n",
       "    </tr>\n",
       "    <tr>\n",
       "      <th>2</th>\n",
       "      <td>3</td>\n",
       "      <td>35</td>\n",
       "      <td>60</td>\n",
       "      <td>3</td>\n",
       "      <td>1247.0</td>\n",
       "      <td>1170.0</td>\n",
       "      <td>143.0</td>\n",
       "    </tr>\n",
       "    <tr>\n",
       "      <th>3</th>\n",
       "      <td>14</td>\n",
       "      <td>203</td>\n",
       "      <td>217</td>\n",
       "      <td>6</td>\n",
       "      <td>31.0</td>\n",
       "      <td>1410.0</td>\n",
       "      <td>344.0</td>\n",
       "    </tr>\n",
       "    <tr>\n",
       "      <th>4</th>\n",
       "      <td>8</td>\n",
       "      <td>32</td>\n",
       "      <td>16</td>\n",
       "      <td>4</td>\n",
       "      <td>563.0</td>\n",
       "      <td>692.0</td>\n",
       "      <td>98.0</td>\n",
       "    </tr>\n",
       "    <tr>\n",
       "      <th>...</th>\n",
       "      <td>...</td>\n",
       "      <td>...</td>\n",
       "      <td>...</td>\n",
       "      <td>...</td>\n",
       "      <td>...</td>\n",
       "      <td>...</td>\n",
       "      <td>...</td>\n",
       "    </tr>\n",
       "    <tr>\n",
       "      <th>539377</th>\n",
       "      <td>12</td>\n",
       "      <td>111</td>\n",
       "      <td>252</td>\n",
       "      <td>5</td>\n",
       "      <td>6973.0</td>\n",
       "      <td>530.0</td>\n",
       "      <td>72.0</td>\n",
       "    </tr>\n",
       "    <tr>\n",
       "      <th>539378</th>\n",
       "      <td>15</td>\n",
       "      <td>153</td>\n",
       "      <td>79</td>\n",
       "      <td>4</td>\n",
       "      <td>1264.0</td>\n",
       "      <td>560.0</td>\n",
       "      <td>115.0</td>\n",
       "    </tr>\n",
       "    <tr>\n",
       "      <th>539379</th>\n",
       "      <td>6</td>\n",
       "      <td>47</td>\n",
       "      <td>16</td>\n",
       "      <td>2</td>\n",
       "      <td>5209.0</td>\n",
       "      <td>827.0</td>\n",
       "      <td>74.0</td>\n",
       "    </tr>\n",
       "    <tr>\n",
       "      <th>539380</th>\n",
       "      <td>15</td>\n",
       "      <td>45</td>\n",
       "      <td>43</td>\n",
       "      <td>4</td>\n",
       "      <td>607.0</td>\n",
       "      <td>715.0</td>\n",
       "      <td>65.0</td>\n",
       "    </tr>\n",
       "    <tr>\n",
       "      <th>539381</th>\n",
       "      <td>12</td>\n",
       "      <td>67</td>\n",
       "      <td>79</td>\n",
       "      <td>2</td>\n",
       "      <td>6377.0</td>\n",
       "      <td>770.0</td>\n",
       "      <td>55.0</td>\n",
       "    </tr>\n",
       "  </tbody>\n",
       "</table>\n",
       "<p>539382 rows × 7 columns</p>\n",
       "</div>"
      ],
      "text/plain": [
       "        Airline  AirportFrom  AirportTo  DayOfWeek  Flight    Time  Length\n",
       "0             5           16        129          1  2313.0  1296.0   141.0\n",
       "1            12           65        208          4  6948.0   360.0   146.0\n",
       "2             3           35         60          3  1247.0  1170.0   143.0\n",
       "3            14          203        217          6    31.0  1410.0   344.0\n",
       "4             8           32         16          4   563.0   692.0    98.0\n",
       "...         ...          ...        ...        ...     ...     ...     ...\n",
       "539377       12          111        252          5  6973.0   530.0    72.0\n",
       "539378       15          153         79          4  1264.0   560.0   115.0\n",
       "539379        6           47         16          2  5209.0   827.0    74.0\n",
       "539380       15           45         43          4   607.0   715.0    65.0\n",
       "539381       12           67         79          2  6377.0   770.0    55.0\n",
       "\n",
       "[539382 rows x 7 columns]"
      ]
     },
     "execution_count": 16,
     "metadata": {},
     "output_type": "execute_result"
    }
   ],
   "source": [
    "df_airlines_features"
   ]
  },
  {
   "cell_type": "code",
   "execution_count": 17,
   "id": "a1ee558c",
   "metadata": {},
   "outputs": [],
   "source": [
    "ordem_colunas = [\"Flight\", \"Time\", \"Length\", \"Airline\", \"AirportFrom\", \"AirportTo\", \"DayOfWeek\"]\n",
    "df_airlines_features = df_airlines_features[ordem_colunas]"
   ]
  },
  {
   "cell_type": "code",
   "execution_count": 18,
   "id": "0dc25648",
   "metadata": {},
   "outputs": [
    {
     "data": {
      "text/html": [
       "<div>\n",
       "<style scoped>\n",
       "    .dataframe tbody tr th:only-of-type {\n",
       "        vertical-align: middle;\n",
       "    }\n",
       "\n",
       "    .dataframe tbody tr th {\n",
       "        vertical-align: top;\n",
       "    }\n",
       "\n",
       "    .dataframe thead th {\n",
       "        text-align: right;\n",
       "    }\n",
       "</style>\n",
       "<table border=\"1\" class=\"dataframe\">\n",
       "  <thead>\n",
       "    <tr style=\"text-align: right;\">\n",
       "      <th></th>\n",
       "      <th>Flight</th>\n",
       "      <th>Time</th>\n",
       "      <th>Length</th>\n",
       "      <th>Airline</th>\n",
       "      <th>AirportFrom</th>\n",
       "      <th>AirportTo</th>\n",
       "      <th>DayOfWeek</th>\n",
       "    </tr>\n",
       "  </thead>\n",
       "  <tbody>\n",
       "    <tr>\n",
       "      <th>0</th>\n",
       "      <td>2313.0</td>\n",
       "      <td>1296.0</td>\n",
       "      <td>141.0</td>\n",
       "      <td>5</td>\n",
       "      <td>16</td>\n",
       "      <td>129</td>\n",
       "      <td>1</td>\n",
       "    </tr>\n",
       "    <tr>\n",
       "      <th>1</th>\n",
       "      <td>6948.0</td>\n",
       "      <td>360.0</td>\n",
       "      <td>146.0</td>\n",
       "      <td>12</td>\n",
       "      <td>65</td>\n",
       "      <td>208</td>\n",
       "      <td>4</td>\n",
       "    </tr>\n",
       "    <tr>\n",
       "      <th>2</th>\n",
       "      <td>1247.0</td>\n",
       "      <td>1170.0</td>\n",
       "      <td>143.0</td>\n",
       "      <td>3</td>\n",
       "      <td>35</td>\n",
       "      <td>60</td>\n",
       "      <td>3</td>\n",
       "    </tr>\n",
       "    <tr>\n",
       "      <th>3</th>\n",
       "      <td>31.0</td>\n",
       "      <td>1410.0</td>\n",
       "      <td>344.0</td>\n",
       "      <td>14</td>\n",
       "      <td>203</td>\n",
       "      <td>217</td>\n",
       "      <td>6</td>\n",
       "    </tr>\n",
       "    <tr>\n",
       "      <th>4</th>\n",
       "      <td>563.0</td>\n",
       "      <td>692.0</td>\n",
       "      <td>98.0</td>\n",
       "      <td>8</td>\n",
       "      <td>32</td>\n",
       "      <td>16</td>\n",
       "      <td>4</td>\n",
       "    </tr>\n",
       "    <tr>\n",
       "      <th>...</th>\n",
       "      <td>...</td>\n",
       "      <td>...</td>\n",
       "      <td>...</td>\n",
       "      <td>...</td>\n",
       "      <td>...</td>\n",
       "      <td>...</td>\n",
       "      <td>...</td>\n",
       "    </tr>\n",
       "    <tr>\n",
       "      <th>539377</th>\n",
       "      <td>6973.0</td>\n",
       "      <td>530.0</td>\n",
       "      <td>72.0</td>\n",
       "      <td>12</td>\n",
       "      <td>111</td>\n",
       "      <td>252</td>\n",
       "      <td>5</td>\n",
       "    </tr>\n",
       "    <tr>\n",
       "      <th>539378</th>\n",
       "      <td>1264.0</td>\n",
       "      <td>560.0</td>\n",
       "      <td>115.0</td>\n",
       "      <td>15</td>\n",
       "      <td>153</td>\n",
       "      <td>79</td>\n",
       "      <td>4</td>\n",
       "    </tr>\n",
       "    <tr>\n",
       "      <th>539379</th>\n",
       "      <td>5209.0</td>\n",
       "      <td>827.0</td>\n",
       "      <td>74.0</td>\n",
       "      <td>6</td>\n",
       "      <td>47</td>\n",
       "      <td>16</td>\n",
       "      <td>2</td>\n",
       "    </tr>\n",
       "    <tr>\n",
       "      <th>539380</th>\n",
       "      <td>607.0</td>\n",
       "      <td>715.0</td>\n",
       "      <td>65.0</td>\n",
       "      <td>15</td>\n",
       "      <td>45</td>\n",
       "      <td>43</td>\n",
       "      <td>4</td>\n",
       "    </tr>\n",
       "    <tr>\n",
       "      <th>539381</th>\n",
       "      <td>6377.0</td>\n",
       "      <td>770.0</td>\n",
       "      <td>55.0</td>\n",
       "      <td>12</td>\n",
       "      <td>67</td>\n",
       "      <td>79</td>\n",
       "      <td>2</td>\n",
       "    </tr>\n",
       "  </tbody>\n",
       "</table>\n",
       "<p>539382 rows × 7 columns</p>\n",
       "</div>"
      ],
      "text/plain": [
       "        Flight    Time  Length  Airline  AirportFrom  AirportTo  DayOfWeek\n",
       "0       2313.0  1296.0   141.0        5           16        129          1\n",
       "1       6948.0   360.0   146.0       12           65        208          4\n",
       "2       1247.0  1170.0   143.0        3           35         60          3\n",
       "3         31.0  1410.0   344.0       14          203        217          6\n",
       "4        563.0   692.0    98.0        8           32         16          4\n",
       "...        ...     ...     ...      ...          ...        ...        ...\n",
       "539377  6973.0   530.0    72.0       12          111        252          5\n",
       "539378  1264.0   560.0   115.0       15          153         79          4\n",
       "539379  5209.0   827.0    74.0        6           47         16          2\n",
       "539380   607.0   715.0    65.0       15           45         43          4\n",
       "539381  6377.0   770.0    55.0       12           67         79          2\n",
       "\n",
       "[539382 rows x 7 columns]"
      ]
     },
     "execution_count": 18,
     "metadata": {},
     "output_type": "execute_result"
    }
   ],
   "source": [
    "df_airlines_features"
   ]
  },
  {
   "cell_type": "code",
   "execution_count": 19,
   "id": "5b9f484d",
   "metadata": {},
   "outputs": [],
   "source": [
    "#\n",
    "# Modelo KNN\n",
    "#"
   ]
  },
  {
   "cell_type": "code",
   "execution_count": 20,
   "id": "f25e1ae3",
   "metadata": {},
   "outputs": [],
   "source": [
    "quantidade_folds = 5\n",
    "kf = KFold(n_splits = quantidade_folds, shuffle = True, random_state = 42)"
   ]
  },
  {
   "cell_type": "code",
   "execution_count": 21,
   "id": "5fa9449a",
   "metadata": {},
   "outputs": [],
   "source": [
    "knn_neighbors = [2, 5, 7, 10]\n",
    "knn_weights = [\"uniform\", \"distance\"]\n",
    "knn_algorithm = [\"ball_tree\", \"kd_tree\", \"brute\"]\n",
    "knn_leaf_size = [10, 30, 50, 70]\n",
    "knn_p = [1, 2, 5, 10]\n",
    "knn_metric = [\"cityblock\", \"cosine\", \"euclidean\", \"haversine\", \"l1\", \"l2\", \"manhattan\", \"nan_euclidean\"]"
   ]
  },
  {
   "cell_type": "code",
   "execution_count": 23,
   "id": "2f55573b",
   "metadata": {},
   "outputs": [],
   "source": [
    "knn_neighbors = [2]#, 5, 10]\n",
    "knn_weights = [\"uniform\"]#, \"distance\"]\n",
    "knn_algorithm = [\"ball_tree\"]#, \"kd_tree\", \"brute\"]\n",
    "knn_leaf_size = [30]\n",
    "knn_p = [2]\n",
    "knn_metric = [\"cityblock\"]#, \"euclidean\", \"l2\", \"manhattan\"]"
   ]
  },
  {
   "cell_type": "code",
   "execution_count": 24,
   "id": "0c57a053",
   "metadata": {},
   "outputs": [
    {
     "name": "stdout",
     "output_type": "stream",
     "text": [
      "n_neighbors:  2 weights:  uniform algorithm:  ball_tree leaf_size:  30 p:  2 metric:  cityblock\n",
      "\n",
      "Accuracy: 62.13% (+/- 0.12%)\n"
     ]
    }
   ],
   "source": [
    "nome_colunas = [\"n_neightbors\", \"weights\", \"algorithm\", \"leaf_size\", \"p\", \"metric\", \"Accuracy\"]\n",
    "df_parametros = pd.DataFrame(columns=nome_colunas)\n",
    "for i_neightbors in (knn_neighbors):\n",
    "    for i_weights in (knn_weights):\n",
    "        for i_algorithm in (knn_algorithm):\n",
    "            for i_leaf in (knn_leaf_size):\n",
    "                for i_p in (knn_p):\n",
    "                    for i_metric in (knn_metric):\n",
    "                        model = KNeighborsClassifier(n_neighbors=i_neightbors, \n",
    "                                                      weights=i_weights, \n",
    "                                                      algorithm=i_algorithm, \n",
    "                                                      leaf_size= i_leaf,\n",
    "                                                      p=i_p, \n",
    "                                                      metric=i_metric)\n",
    "                        accuracy_scores = []\n",
    "                        for i, (train_index, test_index) in enumerate(kf.split(df_airlines_features)):\n",
    "                            x_train, x_test = df_airlines_features.iloc[train_index], df_airlines_features.iloc[test_index]\n",
    "                            y_train, y_test = df_airlines_target.iloc[train_index], df_airlines_target.iloc[test_index]\n",
    "\n",
    "                            model.fit(x_train, y_train)\n",
    "\n",
    "                            y_pred = model.predict(x_test)\n",
    "\n",
    "                            accuracy = accuracy_score(y_test, y_pred)\n",
    "\n",
    "                            accuracy_scores.append(accuracy)\n",
    "                        # Calcular a média e o desvio padrão das métricas de desempenho\n",
    "                        \n",
    "                        mean_accuracy = np.mean(accuracy_scores)\n",
    "                        std_accuracy = np.std(accuracy_scores)\n",
    "                        \n",
    "                        nova_linha = pd.DataFrame({\"n_neightbors\": [i_neightbors], \"weights\": [i_weights], \n",
    "                                                   \"algorithm\": [i_algorithm], \"leaf_size\": [i_leaf], \n",
    "                                                   \"p\": [i_p], \"metric\":[i_metric], \"Accuracy\":[mean_accuracy]})\n",
    "                        df_parametros = pd.concat([df_parametros, nova_linha], axis=0)\n",
    "                        \n",
    "                        \n",
    "\n",
    "                        # Exibir os resultados\n",
    "                        print(\"n_neighbors: \", i_neightbors, \"weights: \", i_weights, \"algorithm: \", i_algorithm, \"leaf_size: \", i_leaf, \"p: \", i_p, \"metric: \", i_metric)\n",
    "                        print(\"\\nAccuracy: %.2f%% (+/- %.2f%%)\" % (mean_accuracy * 100, std_accuracy * 100))\n",
    "    "
   ]
  },
  {
   "cell_type": "code",
   "execution_count": 25,
   "id": "05f03db6",
   "metadata": {},
   "outputs": [],
   "source": [
    "#df_para = df_parametros\n",
    "df_para = pd.read_csv(\"continuar_parametros.csv\")"
   ]
  },
  {
   "cell_type": "code",
   "execution_count": 26,
   "id": "0536e867",
   "metadata": {},
   "outputs": [
    {
     "data": {
      "text/html": [
       "<div>\n",
       "<style scoped>\n",
       "    .dataframe tbody tr th:only-of-type {\n",
       "        vertical-align: middle;\n",
       "    }\n",
       "\n",
       "    .dataframe tbody tr th {\n",
       "        vertical-align: top;\n",
       "    }\n",
       "\n",
       "    .dataframe thead th {\n",
       "        text-align: right;\n",
       "    }\n",
       "</style>\n",
       "<table border=\"1\" class=\"dataframe\">\n",
       "  <thead>\n",
       "    <tr style=\"text-align: right;\">\n",
       "      <th></th>\n",
       "      <th>n_neightbors</th>\n",
       "      <th>weights</th>\n",
       "      <th>algorithm</th>\n",
       "      <th>leaf_size</th>\n",
       "      <th>p</th>\n",
       "      <th>metric</th>\n",
       "      <th>Accuracy</th>\n",
       "    </tr>\n",
       "  </thead>\n",
       "  <tbody>\n",
       "    <tr>\n",
       "      <th>0</th>\n",
       "      <td>2</td>\n",
       "      <td>uniform</td>\n",
       "      <td>ball_tree</td>\n",
       "      <td>30</td>\n",
       "      <td>2</td>\n",
       "      <td>cityblock</td>\n",
       "      <td>0.621307</td>\n",
       "    </tr>\n",
       "  </tbody>\n",
       "</table>\n",
       "</div>"
      ],
      "text/plain": [
       "  n_neightbors  weights  algorithm leaf_size  p     metric  Accuracy\n",
       "0            2  uniform  ball_tree        30  2  cityblock  0.621307"
      ]
     },
     "execution_count": 26,
     "metadata": {},
     "output_type": "execute_result"
    }
   ],
   "source": [
    "df_parametros"
   ]
  },
  {
   "cell_type": "code",
   "execution_count": 27,
   "id": "9668f853",
   "metadata": {},
   "outputs": [],
   "source": [
    "df_para = df_para.reset_index()"
   ]
  },
  {
   "cell_type": "code",
   "execution_count": 28,
   "id": "57b46d8c",
   "metadata": {},
   "outputs": [
    {
     "data": {
      "text/html": [
       "<div>\n",
       "<style scoped>\n",
       "    .dataframe tbody tr th:only-of-type {\n",
       "        vertical-align: middle;\n",
       "    }\n",
       "\n",
       "    .dataframe tbody tr th {\n",
       "        vertical-align: top;\n",
       "    }\n",
       "\n",
       "    .dataframe thead th {\n",
       "        text-align: right;\n",
       "    }\n",
       "</style>\n",
       "<table border=\"1\" class=\"dataframe\">\n",
       "  <thead>\n",
       "    <tr style=\"text-align: right;\">\n",
       "      <th></th>\n",
       "      <th>index</th>\n",
       "      <th>n_neightbors</th>\n",
       "      <th>weights</th>\n",
       "      <th>algorithm</th>\n",
       "      <th>leaf_size</th>\n",
       "      <th>p</th>\n",
       "      <th>metric</th>\n",
       "      <th>Accuracy</th>\n",
       "    </tr>\n",
       "  </thead>\n",
       "  <tbody>\n",
       "    <tr>\n",
       "      <th>0</th>\n",
       "      <td>0</td>\n",
       "      <td>2</td>\n",
       "      <td>uniform</td>\n",
       "      <td>ball_tree</td>\n",
       "      <td>30</td>\n",
       "      <td>2</td>\n",
       "      <td>cityblock</td>\n",
       "      <td>0.621307</td>\n",
       "    </tr>\n",
       "    <tr>\n",
       "      <th>1</th>\n",
       "      <td>1</td>\n",
       "      <td>2</td>\n",
       "      <td>uniform</td>\n",
       "      <td>ball_tree</td>\n",
       "      <td>30</td>\n",
       "      <td>2</td>\n",
       "      <td>euclidean</td>\n",
       "      <td>0.621356</td>\n",
       "    </tr>\n",
       "    <tr>\n",
       "      <th>2</th>\n",
       "      <td>2</td>\n",
       "      <td>2</td>\n",
       "      <td>uniform</td>\n",
       "      <td>ball_tree</td>\n",
       "      <td>30</td>\n",
       "      <td>2</td>\n",
       "      <td>l2</td>\n",
       "      <td>0.621356</td>\n",
       "    </tr>\n",
       "    <tr>\n",
       "      <th>3</th>\n",
       "      <td>3</td>\n",
       "      <td>2</td>\n",
       "      <td>uniform</td>\n",
       "      <td>ball_tree</td>\n",
       "      <td>30</td>\n",
       "      <td>2</td>\n",
       "      <td>manhattan</td>\n",
       "      <td>0.621307</td>\n",
       "    </tr>\n",
       "    <tr>\n",
       "      <th>4</th>\n",
       "      <td>4</td>\n",
       "      <td>2</td>\n",
       "      <td>uniform</td>\n",
       "      <td>kd_tree</td>\n",
       "      <td>30</td>\n",
       "      <td>2</td>\n",
       "      <td>cityblock</td>\n",
       "      <td>0.621387</td>\n",
       "    </tr>\n",
       "    <tr>\n",
       "      <th>...</th>\n",
       "      <td>...</td>\n",
       "      <td>...</td>\n",
       "      <td>...</td>\n",
       "      <td>...</td>\n",
       "      <td>...</td>\n",
       "      <td>...</td>\n",
       "      <td>...</td>\n",
       "      <td>...</td>\n",
       "    </tr>\n",
       "    <tr>\n",
       "      <th>67</th>\n",
       "      <td>67</td>\n",
       "      <td>10</td>\n",
       "      <td>distance</td>\n",
       "      <td>kd_tree</td>\n",
       "      <td>30</td>\n",
       "      <td>2</td>\n",
       "      <td>manhattan</td>\n",
       "      <td>0.616103</td>\n",
       "    </tr>\n",
       "    <tr>\n",
       "      <th>68</th>\n",
       "      <td>68</td>\n",
       "      <td>10</td>\n",
       "      <td>distance</td>\n",
       "      <td>brute</td>\n",
       "      <td>30</td>\n",
       "      <td>2</td>\n",
       "      <td>cityblock</td>\n",
       "      <td>0.616125</td>\n",
       "    </tr>\n",
       "    <tr>\n",
       "      <th>69</th>\n",
       "      <td>69</td>\n",
       "      <td>10</td>\n",
       "      <td>distance</td>\n",
       "      <td>brute</td>\n",
       "      <td>30</td>\n",
       "      <td>2</td>\n",
       "      <td>euclidean</td>\n",
       "      <td>0.615896</td>\n",
       "    </tr>\n",
       "    <tr>\n",
       "      <th>70</th>\n",
       "      <td>70</td>\n",
       "      <td>10</td>\n",
       "      <td>distance</td>\n",
       "      <td>brute</td>\n",
       "      <td>30</td>\n",
       "      <td>2</td>\n",
       "      <td>l2</td>\n",
       "      <td>0.615896</td>\n",
       "    </tr>\n",
       "    <tr>\n",
       "      <th>71</th>\n",
       "      <td>71</td>\n",
       "      <td>10</td>\n",
       "      <td>distance</td>\n",
       "      <td>brute</td>\n",
       "      <td>30</td>\n",
       "      <td>2</td>\n",
       "      <td>manhattan</td>\n",
       "      <td>0.616125</td>\n",
       "    </tr>\n",
       "  </tbody>\n",
       "</table>\n",
       "<p>72 rows × 8 columns</p>\n",
       "</div>"
      ],
      "text/plain": [
       "    index  n_neightbors   weights  algorithm  leaf_size  p     metric  \\\n",
       "0       0             2   uniform  ball_tree         30  2  cityblock   \n",
       "1       1             2   uniform  ball_tree         30  2  euclidean   \n",
       "2       2             2   uniform  ball_tree         30  2         l2   \n",
       "3       3             2   uniform  ball_tree         30  2  manhattan   \n",
       "4       4             2   uniform    kd_tree         30  2  cityblock   \n",
       "..    ...           ...       ...        ...        ... ..        ...   \n",
       "67     67            10  distance    kd_tree         30  2  manhattan   \n",
       "68     68            10  distance      brute         30  2  cityblock   \n",
       "69     69            10  distance      brute         30  2  euclidean   \n",
       "70     70            10  distance      brute         30  2         l2   \n",
       "71     71            10  distance      brute         30  2  manhattan   \n",
       "\n",
       "    Accuracy  \n",
       "0   0.621307  \n",
       "1   0.621356  \n",
       "2   0.621356  \n",
       "3   0.621307  \n",
       "4   0.621387  \n",
       "..       ...  \n",
       "67  0.616103  \n",
       "68  0.616125  \n",
       "69  0.615896  \n",
       "70  0.615896  \n",
       "71  0.616125  \n",
       "\n",
       "[72 rows x 8 columns]"
      ]
     },
     "execution_count": 28,
     "metadata": {},
     "output_type": "execute_result"
    }
   ],
   "source": [
    "df_para"
   ]
  },
  {
   "cell_type": "code",
   "execution_count": null,
   "id": "574fec6a",
   "metadata": {},
   "outputs": [],
   "source": []
  },
  {
   "cell_type": "code",
   "execution_count": null,
   "id": "c81ed6dd",
   "metadata": {},
   "outputs": [],
   "source": []
  },
  {
   "cell_type": "code",
   "execution_count": null,
   "id": "61e83aa1",
   "metadata": {},
   "outputs": [],
   "source": []
  },
  {
   "cell_type": "code",
   "execution_count": null,
   "id": "44fb052e",
   "metadata": {},
   "outputs": [],
   "source": []
  },
  {
   "cell_type": "code",
   "execution_count": 29,
   "id": "e4141b58",
   "metadata": {},
   "outputs": [],
   "source": [
    "model = KNeighborsClassifier()"
   ]
  },
  {
   "cell_type": "code",
   "execution_count": 30,
   "id": "8d9f8219",
   "metadata": {},
   "outputs": [],
   "source": [
    "kf = KFold(n_splits = quantidade_folds, shuffle = True, random_state = 42)"
   ]
  },
  {
   "cell_type": "code",
   "execution_count": 31,
   "id": "beab9671",
   "metadata": {},
   "outputs": [],
   "source": [
    "accuracy_scores = []"
   ]
  },
  {
   "cell_type": "code",
   "execution_count": 32,
   "id": "f721c9fc",
   "metadata": {},
   "outputs": [],
   "source": [
    "for i, (train_index, test_index) in enumerate(kf.split(df_airlines_features)):\n",
    "    x_train, x_test = df_airlines_features.iloc[train_index], df_airlines_features.iloc[test_index]\n",
    "    y_train, y_test = df_airlines_target.iloc[train_index], df_airlines_target.iloc[test_index]\n",
    "    \n",
    "    model.fit(x_train, y_train)\n",
    "    \n",
    "    y_pred = model.predict(x_test)\n",
    "    \n",
    "    accuracy = accuracy_score(y_test, y_pred)\n",
    "    \n",
    "    accuracy_scores.append(accuracy)\n",
    "                           \n",
    "                           \n",
    "    \n",
    "    "
   ]
  },
  {
   "cell_type": "code",
   "execution_count": 33,
   "id": "eb726710",
   "metadata": {},
   "outputs": [
    {
     "name": "stdout",
     "output_type": "stream",
     "text": [
      "Accuracy: 64.27% (+/- 0.09%)\n"
     ]
    }
   ],
   "source": [
    "# Calcular a média e o desvio padrão das métricas de desempenho\n",
    "mean_accuracy = np.mean(accuracy_scores)\n",
    "std_accuracy = np.std(accuracy_scores)\n",
    "\n",
    "# Exibir os resultados\n",
    "print(\"Accuracy: %.2f%% (+/- %.2f%%)\" % (mean_accuracy * 100, std_accuracy * 100))"
   ]
  },
  {
   "cell_type": "code",
   "execution_count": 34,
   "id": "ab0d9394",
   "metadata": {},
   "outputs": [
    {
     "data": {
      "text/html": [
       "<div>\n",
       "<style scoped>\n",
       "    .dataframe tbody tr th:only-of-type {\n",
       "        vertical-align: middle;\n",
       "    }\n",
       "\n",
       "    .dataframe tbody tr th {\n",
       "        vertical-align: top;\n",
       "    }\n",
       "\n",
       "    .dataframe thead th {\n",
       "        text-align: right;\n",
       "    }\n",
       "</style>\n",
       "<table border=\"1\" class=\"dataframe\">\n",
       "  <thead>\n",
       "    <tr style=\"text-align: right;\">\n",
       "      <th></th>\n",
       "      <th>index</th>\n",
       "      <th>n_neightbors</th>\n",
       "      <th>weights</th>\n",
       "      <th>algorithm</th>\n",
       "      <th>leaf_size</th>\n",
       "      <th>p</th>\n",
       "      <th>metric</th>\n",
       "      <th>Accuracy</th>\n",
       "    </tr>\n",
       "  </thead>\n",
       "  <tbody>\n",
       "    <tr>\n",
       "      <th>24</th>\n",
       "      <td>24</td>\n",
       "      <td>5</td>\n",
       "      <td>uniform</td>\n",
       "      <td>ball_tree</td>\n",
       "      <td>30</td>\n",
       "      <td>2</td>\n",
       "      <td>cityblock</td>\n",
       "      <td>0.643092</td>\n",
       "    </tr>\n",
       "    <tr>\n",
       "      <th>25</th>\n",
       "      <td>25</td>\n",
       "      <td>5</td>\n",
       "      <td>uniform</td>\n",
       "      <td>ball_tree</td>\n",
       "      <td>30</td>\n",
       "      <td>2</td>\n",
       "      <td>euclidean</td>\n",
       "      <td>0.642847</td>\n",
       "    </tr>\n",
       "    <tr>\n",
       "      <th>26</th>\n",
       "      <td>26</td>\n",
       "      <td>5</td>\n",
       "      <td>uniform</td>\n",
       "      <td>ball_tree</td>\n",
       "      <td>30</td>\n",
       "      <td>2</td>\n",
       "      <td>l2</td>\n",
       "      <td>0.642847</td>\n",
       "    </tr>\n",
       "    <tr>\n",
       "      <th>27</th>\n",
       "      <td>27</td>\n",
       "      <td>5</td>\n",
       "      <td>uniform</td>\n",
       "      <td>ball_tree</td>\n",
       "      <td>30</td>\n",
       "      <td>2</td>\n",
       "      <td>manhattan</td>\n",
       "      <td>0.643092</td>\n",
       "    </tr>\n",
       "    <tr>\n",
       "      <th>28</th>\n",
       "      <td>28</td>\n",
       "      <td>5</td>\n",
       "      <td>uniform</td>\n",
       "      <td>kd_tree</td>\n",
       "      <td>30</td>\n",
       "      <td>2</td>\n",
       "      <td>cityblock</td>\n",
       "      <td>0.643151</td>\n",
       "    </tr>\n",
       "    <tr>\n",
       "      <th>29</th>\n",
       "      <td>29</td>\n",
       "      <td>5</td>\n",
       "      <td>uniform</td>\n",
       "      <td>kd_tree</td>\n",
       "      <td>30</td>\n",
       "      <td>2</td>\n",
       "      <td>euclidean</td>\n",
       "      <td>0.642658</td>\n",
       "    </tr>\n",
       "    <tr>\n",
       "      <th>30</th>\n",
       "      <td>30</td>\n",
       "      <td>5</td>\n",
       "      <td>uniform</td>\n",
       "      <td>kd_tree</td>\n",
       "      <td>30</td>\n",
       "      <td>2</td>\n",
       "      <td>l2</td>\n",
       "      <td>0.642658</td>\n",
       "    </tr>\n",
       "    <tr>\n",
       "      <th>31</th>\n",
       "      <td>31</td>\n",
       "      <td>5</td>\n",
       "      <td>uniform</td>\n",
       "      <td>kd_tree</td>\n",
       "      <td>30</td>\n",
       "      <td>2</td>\n",
       "      <td>manhattan</td>\n",
       "      <td>0.643151</td>\n",
       "    </tr>\n",
       "    <tr>\n",
       "      <th>32</th>\n",
       "      <td>32</td>\n",
       "      <td>5</td>\n",
       "      <td>uniform</td>\n",
       "      <td>brute</td>\n",
       "      <td>30</td>\n",
       "      <td>2</td>\n",
       "      <td>cityblock</td>\n",
       "      <td>0.643607</td>\n",
       "    </tr>\n",
       "    <tr>\n",
       "      <th>33</th>\n",
       "      <td>33</td>\n",
       "      <td>5</td>\n",
       "      <td>uniform</td>\n",
       "      <td>brute</td>\n",
       "      <td>30</td>\n",
       "      <td>2</td>\n",
       "      <td>euclidean</td>\n",
       "      <td>0.643270</td>\n",
       "    </tr>\n",
       "    <tr>\n",
       "      <th>34</th>\n",
       "      <td>34</td>\n",
       "      <td>5</td>\n",
       "      <td>uniform</td>\n",
       "      <td>brute</td>\n",
       "      <td>30</td>\n",
       "      <td>2</td>\n",
       "      <td>l2</td>\n",
       "      <td>0.643270</td>\n",
       "    </tr>\n",
       "    <tr>\n",
       "      <th>35</th>\n",
       "      <td>35</td>\n",
       "      <td>5</td>\n",
       "      <td>uniform</td>\n",
       "      <td>brute</td>\n",
       "      <td>30</td>\n",
       "      <td>2</td>\n",
       "      <td>manhattan</td>\n",
       "      <td>0.643607</td>\n",
       "    </tr>\n",
       "    <tr>\n",
       "      <th>48</th>\n",
       "      <td>48</td>\n",
       "      <td>10</td>\n",
       "      <td>uniform</td>\n",
       "      <td>ball_tree</td>\n",
       "      <td>30</td>\n",
       "      <td>2</td>\n",
       "      <td>cityblock</td>\n",
       "      <td>0.653596</td>\n",
       "    </tr>\n",
       "    <tr>\n",
       "      <th>49</th>\n",
       "      <td>49</td>\n",
       "      <td>10</td>\n",
       "      <td>uniform</td>\n",
       "      <td>ball_tree</td>\n",
       "      <td>30</td>\n",
       "      <td>2</td>\n",
       "      <td>euclidean</td>\n",
       "      <td>0.652471</td>\n",
       "    </tr>\n",
       "    <tr>\n",
       "      <th>50</th>\n",
       "      <td>50</td>\n",
       "      <td>10</td>\n",
       "      <td>uniform</td>\n",
       "      <td>ball_tree</td>\n",
       "      <td>30</td>\n",
       "      <td>2</td>\n",
       "      <td>l2</td>\n",
       "      <td>0.652471</td>\n",
       "    </tr>\n",
       "    <tr>\n",
       "      <th>51</th>\n",
       "      <td>51</td>\n",
       "      <td>10</td>\n",
       "      <td>uniform</td>\n",
       "      <td>ball_tree</td>\n",
       "      <td>30</td>\n",
       "      <td>2</td>\n",
       "      <td>manhattan</td>\n",
       "      <td>0.653596</td>\n",
       "    </tr>\n",
       "    <tr>\n",
       "      <th>52</th>\n",
       "      <td>52</td>\n",
       "      <td>10</td>\n",
       "      <td>uniform</td>\n",
       "      <td>kd_tree</td>\n",
       "      <td>30</td>\n",
       "      <td>2</td>\n",
       "      <td>cityblock</td>\n",
       "      <td>0.653392</td>\n",
       "    </tr>\n",
       "    <tr>\n",
       "      <th>53</th>\n",
       "      <td>53</td>\n",
       "      <td>10</td>\n",
       "      <td>uniform</td>\n",
       "      <td>kd_tree</td>\n",
       "      <td>30</td>\n",
       "      <td>2</td>\n",
       "      <td>euclidean</td>\n",
       "      <td>0.652426</td>\n",
       "    </tr>\n",
       "    <tr>\n",
       "      <th>54</th>\n",
       "      <td>54</td>\n",
       "      <td>10</td>\n",
       "      <td>uniform</td>\n",
       "      <td>kd_tree</td>\n",
       "      <td>30</td>\n",
       "      <td>2</td>\n",
       "      <td>l2</td>\n",
       "      <td>0.652426</td>\n",
       "    </tr>\n",
       "    <tr>\n",
       "      <th>55</th>\n",
       "      <td>55</td>\n",
       "      <td>10</td>\n",
       "      <td>uniform</td>\n",
       "      <td>kd_tree</td>\n",
       "      <td>30</td>\n",
       "      <td>2</td>\n",
       "      <td>manhattan</td>\n",
       "      <td>0.653392</td>\n",
       "    </tr>\n",
       "    <tr>\n",
       "      <th>56</th>\n",
       "      <td>56</td>\n",
       "      <td>10</td>\n",
       "      <td>uniform</td>\n",
       "      <td>brute</td>\n",
       "      <td>30</td>\n",
       "      <td>2</td>\n",
       "      <td>cityblock</td>\n",
       "      <td>0.653312</td>\n",
       "    </tr>\n",
       "    <tr>\n",
       "      <th>57</th>\n",
       "      <td>57</td>\n",
       "      <td>10</td>\n",
       "      <td>uniform</td>\n",
       "      <td>brute</td>\n",
       "      <td>30</td>\n",
       "      <td>2</td>\n",
       "      <td>euclidean</td>\n",
       "      <td>0.652172</td>\n",
       "    </tr>\n",
       "    <tr>\n",
       "      <th>58</th>\n",
       "      <td>58</td>\n",
       "      <td>10</td>\n",
       "      <td>uniform</td>\n",
       "      <td>brute</td>\n",
       "      <td>30</td>\n",
       "      <td>2</td>\n",
       "      <td>l2</td>\n",
       "      <td>0.652172</td>\n",
       "    </tr>\n",
       "    <tr>\n",
       "      <th>59</th>\n",
       "      <td>59</td>\n",
       "      <td>10</td>\n",
       "      <td>uniform</td>\n",
       "      <td>brute</td>\n",
       "      <td>30</td>\n",
       "      <td>2</td>\n",
       "      <td>manhattan</td>\n",
       "      <td>0.653312</td>\n",
       "    </tr>\n",
       "  </tbody>\n",
       "</table>\n",
       "</div>"
      ],
      "text/plain": [
       "    index  n_neightbors  weights  algorithm  leaf_size  p     metric  Accuracy\n",
       "24     24             5  uniform  ball_tree         30  2  cityblock  0.643092\n",
       "25     25             5  uniform  ball_tree         30  2  euclidean  0.642847\n",
       "26     26             5  uniform  ball_tree         30  2         l2  0.642847\n",
       "27     27             5  uniform  ball_tree         30  2  manhattan  0.643092\n",
       "28     28             5  uniform    kd_tree         30  2  cityblock  0.643151\n",
       "29     29             5  uniform    kd_tree         30  2  euclidean  0.642658\n",
       "30     30             5  uniform    kd_tree         30  2         l2  0.642658\n",
       "31     31             5  uniform    kd_tree         30  2  manhattan  0.643151\n",
       "32     32             5  uniform      brute         30  2  cityblock  0.643607\n",
       "33     33             5  uniform      brute         30  2  euclidean  0.643270\n",
       "34     34             5  uniform      brute         30  2         l2  0.643270\n",
       "35     35             5  uniform      brute         30  2  manhattan  0.643607\n",
       "48     48            10  uniform  ball_tree         30  2  cityblock  0.653596\n",
       "49     49            10  uniform  ball_tree         30  2  euclidean  0.652471\n",
       "50     50            10  uniform  ball_tree         30  2         l2  0.652471\n",
       "51     51            10  uniform  ball_tree         30  2  manhattan  0.653596\n",
       "52     52            10  uniform    kd_tree         30  2  cityblock  0.653392\n",
       "53     53            10  uniform    kd_tree         30  2  euclidean  0.652426\n",
       "54     54            10  uniform    kd_tree         30  2         l2  0.652426\n",
       "55     55            10  uniform    kd_tree         30  2  manhattan  0.653392\n",
       "56     56            10  uniform      brute         30  2  cityblock  0.653312\n",
       "57     57            10  uniform      brute         30  2  euclidean  0.652172\n",
       "58     58            10  uniform      brute         30  2         l2  0.652172\n",
       "59     59            10  uniform      brute         30  2  manhattan  0.653312"
      ]
     },
     "execution_count": 34,
     "metadata": {},
     "output_type": "execute_result"
    }
   ],
   "source": [
    "df_para[df_para[\"Accuracy\"]>0.64]"
   ]
  },
  {
   "cell_type": "code",
   "execution_count": null,
   "id": "e4b3c36f",
   "metadata": {},
   "outputs": [],
   "source": []
  },
  {
   "cell_type": "code",
   "execution_count": 35,
   "id": "8741dc19",
   "metadata": {},
   "outputs": [],
   "source": [
    "accuracy = model.score(x_test, y_test)"
   ]
  },
  {
   "cell_type": "code",
   "execution_count": 36,
   "id": "b762d678",
   "metadata": {},
   "outputs": [
    {
     "data": {
      "text/plain": [
       "0.6429418962512514"
      ]
     },
     "execution_count": 36,
     "metadata": {},
     "output_type": "execute_result"
    }
   ],
   "source": [
    "accuracy"
   ]
  },
  {
   "cell_type": "code",
   "execution_count": 37,
   "id": "72ee3b07",
   "metadata": {},
   "outputs": [],
   "source": [
    "k_values = range(1, 10)\n",
    "scores = []"
   ]
  },
  {
   "cell_type": "code",
   "execution_count": null,
   "id": "f9c5cd72",
   "metadata": {},
   "outputs": [],
   "source": []
  },
  {
   "cell_type": "code",
   "execution_count": 38,
   "id": "864d1c58",
   "metadata": {},
   "outputs": [],
   "source": [
    "rf = RandomForestClassifier()"
   ]
  },
  {
   "cell_type": "code",
   "execution_count": 39,
   "id": "80831c93",
   "metadata": {},
   "outputs": [
    {
     "data": {
      "text/html": [
       "<style>#sk-container-id-1 {color: black;background-color: white;}#sk-container-id-1 pre{padding: 0;}#sk-container-id-1 div.sk-toggleable {background-color: white;}#sk-container-id-1 label.sk-toggleable__label {cursor: pointer;display: block;width: 100%;margin-bottom: 0;padding: 0.3em;box-sizing: border-box;text-align: center;}#sk-container-id-1 label.sk-toggleable__label-arrow:before {content: \"▸\";float: left;margin-right: 0.25em;color: #696969;}#sk-container-id-1 label.sk-toggleable__label-arrow:hover:before {color: black;}#sk-container-id-1 div.sk-estimator:hover label.sk-toggleable__label-arrow:before {color: black;}#sk-container-id-1 div.sk-toggleable__content {max-height: 0;max-width: 0;overflow: hidden;text-align: left;background-color: #f0f8ff;}#sk-container-id-1 div.sk-toggleable__content pre {margin: 0.2em;color: black;border-radius: 0.25em;background-color: #f0f8ff;}#sk-container-id-1 input.sk-toggleable__control:checked~div.sk-toggleable__content {max-height: 200px;max-width: 100%;overflow: auto;}#sk-container-id-1 input.sk-toggleable__control:checked~label.sk-toggleable__label-arrow:before {content: \"▾\";}#sk-container-id-1 div.sk-estimator input.sk-toggleable__control:checked~label.sk-toggleable__label {background-color: #d4ebff;}#sk-container-id-1 div.sk-label input.sk-toggleable__control:checked~label.sk-toggleable__label {background-color: #d4ebff;}#sk-container-id-1 input.sk-hidden--visually {border: 0;clip: rect(1px 1px 1px 1px);clip: rect(1px, 1px, 1px, 1px);height: 1px;margin: -1px;overflow: hidden;padding: 0;position: absolute;width: 1px;}#sk-container-id-1 div.sk-estimator {font-family: monospace;background-color: #f0f8ff;border: 1px dotted black;border-radius: 0.25em;box-sizing: border-box;margin-bottom: 0.5em;}#sk-container-id-1 div.sk-estimator:hover {background-color: #d4ebff;}#sk-container-id-1 div.sk-parallel-item::after {content: \"\";width: 100%;border-bottom: 1px solid gray;flex-grow: 1;}#sk-container-id-1 div.sk-label:hover label.sk-toggleable__label {background-color: #d4ebff;}#sk-container-id-1 div.sk-serial::before {content: \"\";position: absolute;border-left: 1px solid gray;box-sizing: border-box;top: 0;bottom: 0;left: 50%;z-index: 0;}#sk-container-id-1 div.sk-serial {display: flex;flex-direction: column;align-items: center;background-color: white;padding-right: 0.2em;padding-left: 0.2em;position: relative;}#sk-container-id-1 div.sk-item {position: relative;z-index: 1;}#sk-container-id-1 div.sk-parallel {display: flex;align-items: stretch;justify-content: center;background-color: white;position: relative;}#sk-container-id-1 div.sk-item::before, #sk-container-id-1 div.sk-parallel-item::before {content: \"\";position: absolute;border-left: 1px solid gray;box-sizing: border-box;top: 0;bottom: 0;left: 50%;z-index: -1;}#sk-container-id-1 div.sk-parallel-item {display: flex;flex-direction: column;z-index: 1;position: relative;background-color: white;}#sk-container-id-1 div.sk-parallel-item:first-child::after {align-self: flex-end;width: 50%;}#sk-container-id-1 div.sk-parallel-item:last-child::after {align-self: flex-start;width: 50%;}#sk-container-id-1 div.sk-parallel-item:only-child::after {width: 0;}#sk-container-id-1 div.sk-dashed-wrapped {border: 1px dashed gray;margin: 0 0.4em 0.5em 0.4em;box-sizing: border-box;padding-bottom: 0.4em;background-color: white;}#sk-container-id-1 div.sk-label label {font-family: monospace;font-weight: bold;display: inline-block;line-height: 1.2em;}#sk-container-id-1 div.sk-label-container {text-align: center;}#sk-container-id-1 div.sk-container {/* jupyter's `normalize.less` sets `[hidden] { display: none; }` but bootstrap.min.css set `[hidden] { display: none !important; }` so we also need the `!important` here to be able to override the default hidden behavior on the sphinx rendered scikit-learn.org. See: https://github.com/scikit-learn/scikit-learn/issues/21755 */display: inline-block !important;position: relative;}#sk-container-id-1 div.sk-text-repr-fallback {display: none;}</style><div id=\"sk-container-id-1\" class=\"sk-top-container\"><div class=\"sk-text-repr-fallback\"><pre>RandomForestClassifier()</pre><b>In a Jupyter environment, please rerun this cell to show the HTML representation or trust the notebook. <br />On GitHub, the HTML representation is unable to render, please try loading this page with nbviewer.org.</b></div><div class=\"sk-container\" hidden><div class=\"sk-item\"><div class=\"sk-estimator sk-toggleable\"><input class=\"sk-toggleable__control sk-hidden--visually\" id=\"sk-estimator-id-1\" type=\"checkbox\" checked><label for=\"sk-estimator-id-1\" class=\"sk-toggleable__label sk-toggleable__label-arrow\">RandomForestClassifier</label><div class=\"sk-toggleable__content\"><pre>RandomForestClassifier()</pre></div></div></div></div></div>"
      ],
      "text/plain": [
       "RandomForestClassifier()"
      ]
     },
     "execution_count": 39,
     "metadata": {},
     "output_type": "execute_result"
    }
   ],
   "source": [
    "rf.fit(x_train, y_train)"
   ]
  },
  {
   "cell_type": "code",
   "execution_count": null,
   "id": "cda172fc",
   "metadata": {},
   "outputs": [],
   "source": []
  },
  {
   "cell_type": "code",
   "execution_count": null,
   "id": "0c0751f1",
   "metadata": {},
   "outputs": [],
   "source": []
  },
  {
   "cell_type": "code",
   "execution_count": 40,
   "id": "f99fa015",
   "metadata": {},
   "outputs": [],
   "source": [
    "nome_colunas = [\"n_neightbors\", \"weights\", \"algorithm\", \"leaf_size\", \"p\", \"metric\", \"Accuracy\"]\n",
    "teste = pd.DataFrame(columns=nome_colunas)"
   ]
  },
  {
   "cell_type": "code",
   "execution_count": 41,
   "id": "b5b123c2",
   "metadata": {},
   "outputs": [
    {
     "data": {
      "text/html": [
       "<div>\n",
       "<style scoped>\n",
       "    .dataframe tbody tr th:only-of-type {\n",
       "        vertical-align: middle;\n",
       "    }\n",
       "\n",
       "    .dataframe tbody tr th {\n",
       "        vertical-align: top;\n",
       "    }\n",
       "\n",
       "    .dataframe thead th {\n",
       "        text-align: right;\n",
       "    }\n",
       "</style>\n",
       "<table border=\"1\" class=\"dataframe\">\n",
       "  <thead>\n",
       "    <tr style=\"text-align: right;\">\n",
       "      <th></th>\n",
       "      <th>n_neightbors</th>\n",
       "      <th>weights</th>\n",
       "      <th>algorithm</th>\n",
       "      <th>leaf_size</th>\n",
       "      <th>p</th>\n",
       "      <th>metric</th>\n",
       "      <th>Accuracy</th>\n",
       "    </tr>\n",
       "  </thead>\n",
       "  <tbody>\n",
       "  </tbody>\n",
       "</table>\n",
       "</div>"
      ],
      "text/plain": [
       "Empty DataFrame\n",
       "Columns: [n_neightbors, weights, algorithm, leaf_size, p, metric, Accuracy]\n",
       "Index: []"
      ]
     },
     "execution_count": 41,
     "metadata": {},
     "output_type": "execute_result"
    }
   ],
   "source": [
    "teste"
   ]
  },
  {
   "cell_type": "code",
   "execution_count": 42,
   "id": "a09c029c",
   "metadata": {},
   "outputs": [],
   "source": [
    "nova_linha = pd.DataFrame({\"n_neightbors\": [i_neightbors], \"weights\": [i_weights], \"algorithm\": [i_algorithm], \n",
    "                           \"leaf_size\": [i_leaf], \"p\": [i_p], \"metric\":[i_metric], \"Accuracy\":[mean_accuracy]})"
   ]
  },
  {
   "cell_type": "code",
   "execution_count": 43,
   "id": "605410da",
   "metadata": {},
   "outputs": [],
   "source": [
    "nova_linha = pd.DataFrame({'Nome': ['Carlos'], 'Idade': [40]})"
   ]
  },
  {
   "cell_type": "code",
   "execution_count": 44,
   "id": "bceabb1b",
   "metadata": {},
   "outputs": [
    {
     "data": {
      "text/html": [
       "<div>\n",
       "<style scoped>\n",
       "    .dataframe tbody tr th:only-of-type {\n",
       "        vertical-align: middle;\n",
       "    }\n",
       "\n",
       "    .dataframe tbody tr th {\n",
       "        vertical-align: top;\n",
       "    }\n",
       "\n",
       "    .dataframe thead th {\n",
       "        text-align: right;\n",
       "    }\n",
       "</style>\n",
       "<table border=\"1\" class=\"dataframe\">\n",
       "  <thead>\n",
       "    <tr style=\"text-align: right;\">\n",
       "      <th></th>\n",
       "      <th>Nome</th>\n",
       "      <th>Idade</th>\n",
       "    </tr>\n",
       "  </thead>\n",
       "  <tbody>\n",
       "    <tr>\n",
       "      <th>0</th>\n",
       "      <td>Carlos</td>\n",
       "      <td>40</td>\n",
       "    </tr>\n",
       "  </tbody>\n",
       "</table>\n",
       "</div>"
      ],
      "text/plain": [
       "     Nome  Idade\n",
       "0  Carlos     40"
      ]
     },
     "execution_count": 44,
     "metadata": {},
     "output_type": "execute_result"
    }
   ],
   "source": [
    "nova_linha"
   ]
  },
  {
   "cell_type": "code",
   "execution_count": 45,
   "id": "1f8e5a2b",
   "metadata": {},
   "outputs": [],
   "source": [
    "teste = pd.concat([teste, nova_linha], axis=0)"
   ]
  },
  {
   "cell_type": "code",
   "execution_count": 46,
   "id": "1deb6a8e",
   "metadata": {},
   "outputs": [
    {
     "data": {
      "text/html": [
       "<div>\n",
       "<style scoped>\n",
       "    .dataframe tbody tr th:only-of-type {\n",
       "        vertical-align: middle;\n",
       "    }\n",
       "\n",
       "    .dataframe tbody tr th {\n",
       "        vertical-align: top;\n",
       "    }\n",
       "\n",
       "    .dataframe thead th {\n",
       "        text-align: right;\n",
       "    }\n",
       "</style>\n",
       "<table border=\"1\" class=\"dataframe\">\n",
       "  <thead>\n",
       "    <tr style=\"text-align: right;\">\n",
       "      <th></th>\n",
       "      <th>n_neightbors</th>\n",
       "      <th>weights</th>\n",
       "      <th>algorithm</th>\n",
       "      <th>leaf_size</th>\n",
       "      <th>p</th>\n",
       "      <th>metric</th>\n",
       "      <th>Accuracy</th>\n",
       "      <th>Nome</th>\n",
       "      <th>Idade</th>\n",
       "    </tr>\n",
       "  </thead>\n",
       "  <tbody>\n",
       "    <tr>\n",
       "      <th>0</th>\n",
       "      <td>NaN</td>\n",
       "      <td>NaN</td>\n",
       "      <td>NaN</td>\n",
       "      <td>NaN</td>\n",
       "      <td>NaN</td>\n",
       "      <td>NaN</td>\n",
       "      <td>NaN</td>\n",
       "      <td>Carlos</td>\n",
       "      <td>40.0</td>\n",
       "    </tr>\n",
       "  </tbody>\n",
       "</table>\n",
       "</div>"
      ],
      "text/plain": [
       "  n_neightbors weights algorithm leaf_size    p metric Accuracy    Nome  Idade\n",
       "0          NaN     NaN       NaN       NaN  NaN    NaN      NaN  Carlos   40.0"
      ]
     },
     "execution_count": 46,
     "metadata": {},
     "output_type": "execute_result"
    }
   ],
   "source": [
    "teste"
   ]
  },
  {
   "cell_type": "code",
   "execution_count": 47,
   "id": "462854dc",
   "metadata": {},
   "outputs": [],
   "source": [
    "#\n",
    "# Avaliação \n",
    "#"
   ]
  },
  {
   "cell_type": "code",
   "execution_count": 48,
   "id": "2a1f93ff",
   "metadata": {},
   "outputs": [],
   "source": [
    "# Matrix de confusão\n",
    "##\n",
    "##   [Verdadeiro Positivo (TP)                Falso Positivo(FP)      ]\n",
    "##   [Falso Negativo (FN)                     Verdadeiro Negativo (TN)]"
   ]
  },
  {
   "cell_type": "code",
   "execution_count": 49,
   "id": "c2d00e62",
   "metadata": {},
   "outputs": [
    {
     "name": "stdout",
     "output_type": "stream",
     "text": [
      "Accuracy: 65.36% (+/- 0.09%)\n"
     ]
    }
   ],
   "source": [
    "model_opt = KNeighborsClassifier(n_neighbors=10, weights=\"uniform\", algorithm=\"ball_tree\", leaf_size=30, \n",
    "                                 p=2, metric=\"manhattan\" )\n",
    "kf = KFold(n_splits = quantidade_folds, shuffle = True, random_state = 42)\n",
    "accuracy_scores = []\n",
    "\n",
    "for i, (train_index, test_index) in enumerate(kf.split(df_airlines_features)):\n",
    "    x_train, x_test = df_airlines_features.iloc[train_index], df_airlines_features.iloc[test_index]\n",
    "    y_train, y_test = df_airlines_target.iloc[train_index], df_airlines_target.iloc[test_index]\n",
    "    \n",
    "    model_opt.fit(x_train, y_train)\n",
    "    \n",
    "    y_pred = model_opt.predict(x_test)\n",
    "    \n",
    "    accuracy = accuracy_score(y_test, y_pred)\n",
    "    \n",
    "    accuracy_scores.append(accuracy)\n",
    "    \n",
    "mean_accuracy = np.mean(accuracy_scores)\n",
    "std_accuracy = np.std(accuracy_scores)\n",
    "\n",
    "# Exibir os resultados\n",
    "print(\"Accuracy: %.2f%% (+/- %.2f%%)\" % (mean_accuracy * 100, std_accuracy * 100))"
   ]
  },
  {
   "cell_type": "code",
   "execution_count": 50,
   "id": "994f2955",
   "metadata": {},
   "outputs": [
    {
     "name": "stdout",
     "output_type": "stream",
     "text": [
      "Fold Confusion Matrix:\n",
      "[[47509 12205]\n",
      " [25332 22831]]\n",
      "\n",
      "Fold Confusion Matrix:\n",
      "[[47773 12026]\n",
      " [25333 22745]]\n",
      "\n",
      "Fold Confusion Matrix:\n",
      "[[47797 12186]\n",
      " [25191 22702]]\n",
      "\n",
      "Fold Confusion Matrix:\n",
      "[[47899 11978]\n",
      " [25285 22714]]\n",
      "\n",
      "Fold Confusion Matrix:\n",
      "[[47724 12021]\n",
      " [25287 22844]]\n",
      "\n",
      "Accuracy: 65.36% (+/- 0.09%)\n"
     ]
    }
   ],
   "source": [
    "#10\tuniform\tball_tree\t30\t2\tcityblock\n",
    "model_opt2 = KNeighborsClassifier(n_neighbors=10, weights=\"uniform\", algorithm=\"ball_tree\", leaf_size=30, \n",
    "                                 p=2, metric=\"cityblock\" )\n",
    "kf = KFold(n_splits = quantidade_folds, shuffle = True, random_state = 42)\n",
    "accuracy_scores = []\n",
    "confusion_matrices = []\n",
    "\n",
    "for i, (train_index, test_index) in enumerate(kf.split(df_airlines_features)):\n",
    "    x_train, x_test = df_airlines_features.iloc[train_index], df_airlines_features.iloc[test_index]\n",
    "    y_train, y_test = df_airlines_target.iloc[train_index], df_airlines_target.iloc[test_index]\n",
    "    \n",
    "    model_opt2.fit(x_train, y_train)\n",
    "    \n",
    "    y_pred = model_opt2.predict(x_test)\n",
    "    \n",
    "    accuracy = accuracy_score(y_test, y_pred)\n",
    "    \n",
    "    accuracy_scores.append(accuracy)\n",
    "    \n",
    "    cm = confusion_matrix(y_test, y_pred)\n",
    "    confusion_matrices.append(cm)\n",
    "    print(\"Fold Confusion Matrix:\")\n",
    "    print(cm)\n",
    "    print()\n",
    "    \n",
    "mean_accuracy = np.mean(accuracy_scores)\n",
    "std_accuracy = np.std(accuracy_scores)\n",
    "\n",
    "# Exibir os resultados\n",
    "print(\"Accuracy: %.2f%% (+/- %.2f%%)\" % (mean_accuracy * 100, std_accuracy * 100))"
   ]
  },
  {
   "cell_type": "code",
   "execution_count": 51,
   "id": "083c1876",
   "metadata": {},
   "outputs": [
    {
     "data": {
      "text/plain": [
       "array([[47773, 12026],\n",
       "       [25333, 22745]])"
      ]
     },
     "execution_count": 51,
     "metadata": {},
     "output_type": "execute_result"
    }
   ],
   "source": [
    "confusion_matrices[1]"
   ]
  },
  {
   "cell_type": "code",
   "execution_count": 52,
   "id": "b096a577",
   "metadata": {},
   "outputs": [
    {
     "data": {
      "text/plain": [
       "5"
      ]
     },
     "execution_count": 52,
     "metadata": {},
     "output_type": "execute_result"
    }
   ],
   "source": [
    "len(confusion_matrices)"
   ]
  },
  {
   "cell_type": "code",
   "execution_count": 53,
   "id": "2c105873",
   "metadata": {},
   "outputs": [],
   "source": [
    "TP = 0\n",
    "NP = 0\n",
    "NF = 0\n",
    "TN = 0\n",
    "for i in range(0,5):\n",
    "    TP += confusion_matrices[i][0,0]\n",
    "    NP += confusion_matrices[i][0,1]\n",
    "    NF += confusion_matrices[i][1,0]\n",
    "    TN += confusion_matrices[i][1,1]\n",
    "    \n",
    "TP = TP/5\n",
    "NP = NP/5\n",
    "NF = NF/5\n",
    "TN = TN/5"
   ]
  },
  {
   "cell_type": "code",
   "execution_count": 54,
   "id": "955ad49d",
   "metadata": {},
   "outputs": [
    {
     "data": {
      "text/plain": [
       "0.798019510694776"
      ]
     },
     "execution_count": 54,
     "metadata": {},
     "output_type": "execute_result"
    }
   ],
   "source": [
    "#Taxa de Verdadeiros (TVP)\n",
    "# TVP = (VP)/(VP+FN)\n",
    "TVP = TP/(TP+NP)\n",
    "TVP"
   ]
  },
  {
   "cell_type": "code",
   "execution_count": 55,
   "id": "48e20965",
   "metadata": {},
   "outputs": [
    {
     "data": {
      "text/plain": [
       "0.5262045083741217"
      ]
     },
     "execution_count": 55,
     "metadata": {},
     "output_type": "execute_result"
    }
   ],
   "source": [
    "#Taxa de Falsos positivos (TFP)\n",
    "# TFP = (FP)/(FP+VN)\n",
    "TFP = NF/(NF+TN)\n",
    "TFP"
   ]
  },
  {
   "cell_type": "code",
   "execution_count": 56,
   "id": "c5bc9903",
   "metadata": {},
   "outputs": [
    {
     "data": {
      "text/plain": [
       "0.6535961526339403"
      ]
     },
     "execution_count": 56,
     "metadata": {},
     "output_type": "execute_result"
    }
   ],
   "source": [
    "# Acurácia (ACC) \n",
    "# ACC = (VP + VN) / (VP + FP + VN + FN)\n",
    "ACC = (TP + TN)/(TP+NP+NF+TN)\n",
    "ACC"
   ]
  },
  {
   "cell_type": "code",
   "execution_count": 57,
   "id": "e85eb8d7",
   "metadata": {},
   "outputs": [
    {
     "data": {
      "text/plain": [
       "0.34640384736605967"
      ]
     },
     "execution_count": 57,
     "metadata": {},
     "output_type": "execute_result"
    }
   ],
   "source": [
    "# Erro (E)\n",
    "# E = 1 - ACC\n",
    "E = 1 - ACC\n",
    "E"
   ]
  },
  {
   "cell_type": "code",
   "execution_count": 58,
   "id": "eff1fde9",
   "metadata": {},
   "outputs": [
    {
     "data": {
      "text/plain": [
       "0.6537452414208639"
      ]
     },
     "execution_count": 58,
     "metadata": {},
     "output_type": "execute_result"
    }
   ],
   "source": [
    "#precisão (Pr)\n",
    "# Pr = (VP)/(FP+VP)\n",
    "Pr = TP/(NF+TP)\n",
    "Pr"
   ]
  },
  {
   "cell_type": "code",
   "execution_count": 59,
   "id": "705bfca6",
   "metadata": {},
   "outputs": [
    {
     "data": {
      "text/plain": [
       "0.798019510694776"
      ]
     },
     "execution_count": 59,
     "metadata": {},
     "output_type": "execute_result"
    }
   ],
   "source": [
    "# revocação (Re)\n",
    "# Re = VP/(FN+VP)\n",
    "Re = TP/(NP+TP)\n",
    "Re"
   ]
  },
  {
   "cell_type": "code",
   "execution_count": 60,
   "id": "5f035b39",
   "metadata": {},
   "outputs": [
    {
     "data": {
      "text/plain": [
       "0.7187134925509749"
      ]
     },
     "execution_count": 60,
     "metadata": {},
     "output_type": "execute_result"
    }
   ],
   "source": [
    "# F1 Score\n",
    "# F1 = 2*(Pr*Re)/(Pr+Re)\n",
    "F1 = 2*(Pr*Re)/(Pr+Re)\n",
    "F1"
   ]
  },
  {
   "cell_type": "code",
   "execution_count": 61,
   "id": "5e5fde1c",
   "metadata": {},
   "outputs": [],
   "source": [
    "# Curva ROC"
   ]
  },
  {
   "cell_type": "code",
   "execution_count": null,
   "id": "d96cd737",
   "metadata": {},
   "outputs": [],
   "source": []
  },
  {
   "cell_type": "code",
   "execution_count": 62,
   "id": "d42cd083",
   "metadata": {},
   "outputs": [
    {
     "data": {
      "text/html": [
       "<div>\n",
       "<style scoped>\n",
       "    .dataframe tbody tr th:only-of-type {\n",
       "        vertical-align: middle;\n",
       "    }\n",
       "\n",
       "    .dataframe tbody tr th {\n",
       "        vertical-align: top;\n",
       "    }\n",
       "\n",
       "    .dataframe thead th {\n",
       "        text-align: right;\n",
       "    }\n",
       "</style>\n",
       "<table border=\"1\" class=\"dataframe\">\n",
       "  <thead>\n",
       "    <tr style=\"text-align: right;\">\n",
       "      <th></th>\n",
       "      <th>index</th>\n",
       "      <th>n_neightbors</th>\n",
       "      <th>weights</th>\n",
       "      <th>algorithm</th>\n",
       "      <th>leaf_size</th>\n",
       "      <th>p</th>\n",
       "      <th>metric</th>\n",
       "      <th>Accuracy</th>\n",
       "    </tr>\n",
       "  </thead>\n",
       "  <tbody>\n",
       "    <tr>\n",
       "      <th>48</th>\n",
       "      <td>48</td>\n",
       "      <td>10</td>\n",
       "      <td>uniform</td>\n",
       "      <td>ball_tree</td>\n",
       "      <td>30</td>\n",
       "      <td>2</td>\n",
       "      <td>cityblock</td>\n",
       "      <td>0.653596</td>\n",
       "    </tr>\n",
       "    <tr>\n",
       "      <th>51</th>\n",
       "      <td>51</td>\n",
       "      <td>10</td>\n",
       "      <td>uniform</td>\n",
       "      <td>ball_tree</td>\n",
       "      <td>30</td>\n",
       "      <td>2</td>\n",
       "      <td>manhattan</td>\n",
       "      <td>0.653596</td>\n",
       "    </tr>\n",
       "  </tbody>\n",
       "</table>\n",
       "</div>"
      ],
      "text/plain": [
       "    index  n_neightbors  weights  algorithm  leaf_size  p     metric  Accuracy\n",
       "48     48            10  uniform  ball_tree         30  2  cityblock  0.653596\n",
       "51     51            10  uniform  ball_tree         30  2  manhattan  0.653596"
      ]
     },
     "execution_count": 62,
     "metadata": {},
     "output_type": "execute_result"
    }
   ],
   "source": [
    "df_para[df_para[\"Accuracy\"] == df_para[\"Accuracy\"].max()]"
   ]
  },
  {
   "cell_type": "code",
   "execution_count": 63,
   "id": "ebc7bb2c",
   "metadata": {},
   "outputs": [
    {
     "data": {
      "text/html": [
       "<div>\n",
       "<style scoped>\n",
       "    .dataframe tbody tr th:only-of-type {\n",
       "        vertical-align: middle;\n",
       "    }\n",
       "\n",
       "    .dataframe tbody tr th {\n",
       "        vertical-align: top;\n",
       "    }\n",
       "\n",
       "    .dataframe thead th {\n",
       "        text-align: right;\n",
       "    }\n",
       "</style>\n",
       "<table border=\"1\" class=\"dataframe\">\n",
       "  <thead>\n",
       "    <tr style=\"text-align: right;\">\n",
       "      <th></th>\n",
       "      <th>index</th>\n",
       "      <th>n_neightbors</th>\n",
       "      <th>weights</th>\n",
       "      <th>algorithm</th>\n",
       "      <th>leaf_size</th>\n",
       "      <th>p</th>\n",
       "      <th>metric</th>\n",
       "      <th>Accuracy</th>\n",
       "    </tr>\n",
       "  </thead>\n",
       "  <tbody>\n",
       "    <tr>\n",
       "      <th>21</th>\n",
       "      <td>21</td>\n",
       "      <td>2</td>\n",
       "      <td>distance</td>\n",
       "      <td>brute</td>\n",
       "      <td>30</td>\n",
       "      <td>2</td>\n",
       "      <td>euclidean</td>\n",
       "      <td>0.612097</td>\n",
       "    </tr>\n",
       "    <tr>\n",
       "      <th>22</th>\n",
       "      <td>22</td>\n",
       "      <td>2</td>\n",
       "      <td>distance</td>\n",
       "      <td>brute</td>\n",
       "      <td>30</td>\n",
       "      <td>2</td>\n",
       "      <td>l2</td>\n",
       "      <td>0.612097</td>\n",
       "    </tr>\n",
       "  </tbody>\n",
       "</table>\n",
       "</div>"
      ],
      "text/plain": [
       "    index  n_neightbors   weights algorithm  leaf_size  p     metric  Accuracy\n",
       "21     21             2  distance     brute         30  2  euclidean  0.612097\n",
       "22     22             2  distance     brute         30  2         l2  0.612097"
      ]
     },
     "execution_count": 63,
     "metadata": {},
     "output_type": "execute_result"
    }
   ],
   "source": [
    "df_para[df_para[\"Accuracy\"] == df_para[\"Accuracy\"].min()]"
   ]
  },
  {
   "cell_type": "code",
   "execution_count": null,
   "id": "28a30368",
   "metadata": {},
   "outputs": [],
   "source": []
  },
  {
   "cell_type": "code",
   "execution_count": 64,
   "id": "f1dffdbf",
   "metadata": {},
   "outputs": [
    {
     "data": {
      "text/html": [
       "<style>#sk-container-id-2 {color: black;background-color: white;}#sk-container-id-2 pre{padding: 0;}#sk-container-id-2 div.sk-toggleable {background-color: white;}#sk-container-id-2 label.sk-toggleable__label {cursor: pointer;display: block;width: 100%;margin-bottom: 0;padding: 0.3em;box-sizing: border-box;text-align: center;}#sk-container-id-2 label.sk-toggleable__label-arrow:before {content: \"▸\";float: left;margin-right: 0.25em;color: #696969;}#sk-container-id-2 label.sk-toggleable__label-arrow:hover:before {color: black;}#sk-container-id-2 div.sk-estimator:hover label.sk-toggleable__label-arrow:before {color: black;}#sk-container-id-2 div.sk-toggleable__content {max-height: 0;max-width: 0;overflow: hidden;text-align: left;background-color: #f0f8ff;}#sk-container-id-2 div.sk-toggleable__content pre {margin: 0.2em;color: black;border-radius: 0.25em;background-color: #f0f8ff;}#sk-container-id-2 input.sk-toggleable__control:checked~div.sk-toggleable__content {max-height: 200px;max-width: 100%;overflow: auto;}#sk-container-id-2 input.sk-toggleable__control:checked~label.sk-toggleable__label-arrow:before {content: \"▾\";}#sk-container-id-2 div.sk-estimator input.sk-toggleable__control:checked~label.sk-toggleable__label {background-color: #d4ebff;}#sk-container-id-2 div.sk-label input.sk-toggleable__control:checked~label.sk-toggleable__label {background-color: #d4ebff;}#sk-container-id-2 input.sk-hidden--visually {border: 0;clip: rect(1px 1px 1px 1px);clip: rect(1px, 1px, 1px, 1px);height: 1px;margin: -1px;overflow: hidden;padding: 0;position: absolute;width: 1px;}#sk-container-id-2 div.sk-estimator {font-family: monospace;background-color: #f0f8ff;border: 1px dotted black;border-radius: 0.25em;box-sizing: border-box;margin-bottom: 0.5em;}#sk-container-id-2 div.sk-estimator:hover {background-color: #d4ebff;}#sk-container-id-2 div.sk-parallel-item::after {content: \"\";width: 100%;border-bottom: 1px solid gray;flex-grow: 1;}#sk-container-id-2 div.sk-label:hover label.sk-toggleable__label {background-color: #d4ebff;}#sk-container-id-2 div.sk-serial::before {content: \"\";position: absolute;border-left: 1px solid gray;box-sizing: border-box;top: 0;bottom: 0;left: 50%;z-index: 0;}#sk-container-id-2 div.sk-serial {display: flex;flex-direction: column;align-items: center;background-color: white;padding-right: 0.2em;padding-left: 0.2em;position: relative;}#sk-container-id-2 div.sk-item {position: relative;z-index: 1;}#sk-container-id-2 div.sk-parallel {display: flex;align-items: stretch;justify-content: center;background-color: white;position: relative;}#sk-container-id-2 div.sk-item::before, #sk-container-id-2 div.sk-parallel-item::before {content: \"\";position: absolute;border-left: 1px solid gray;box-sizing: border-box;top: 0;bottom: 0;left: 50%;z-index: -1;}#sk-container-id-2 div.sk-parallel-item {display: flex;flex-direction: column;z-index: 1;position: relative;background-color: white;}#sk-container-id-2 div.sk-parallel-item:first-child::after {align-self: flex-end;width: 50%;}#sk-container-id-2 div.sk-parallel-item:last-child::after {align-self: flex-start;width: 50%;}#sk-container-id-2 div.sk-parallel-item:only-child::after {width: 0;}#sk-container-id-2 div.sk-dashed-wrapped {border: 1px dashed gray;margin: 0 0.4em 0.5em 0.4em;box-sizing: border-box;padding-bottom: 0.4em;background-color: white;}#sk-container-id-2 div.sk-label label {font-family: monospace;font-weight: bold;display: inline-block;line-height: 1.2em;}#sk-container-id-2 div.sk-label-container {text-align: center;}#sk-container-id-2 div.sk-container {/* jupyter's `normalize.less` sets `[hidden] { display: none; }` but bootstrap.min.css set `[hidden] { display: none !important; }` so we also need the `!important` here to be able to override the default hidden behavior on the sphinx rendered scikit-learn.org. See: https://github.com/scikit-learn/scikit-learn/issues/21755 */display: inline-block !important;position: relative;}#sk-container-id-2 div.sk-text-repr-fallback {display: none;}</style><div id=\"sk-container-id-2\" class=\"sk-top-container\"><div class=\"sk-text-repr-fallback\"><pre>KNeighborsClassifier(algorithm=&#x27;ball_tree&#x27;, metric=&#x27;cityblock&#x27;, n_neighbors=10)</pre><b>In a Jupyter environment, please rerun this cell to show the HTML representation or trust the notebook. <br />On GitHub, the HTML representation is unable to render, please try loading this page with nbviewer.org.</b></div><div class=\"sk-container\" hidden><div class=\"sk-item\"><div class=\"sk-estimator sk-toggleable\"><input class=\"sk-toggleable__control sk-hidden--visually\" id=\"sk-estimator-id-2\" type=\"checkbox\" checked><label for=\"sk-estimator-id-2\" class=\"sk-toggleable__label sk-toggleable__label-arrow\">KNeighborsClassifier</label><div class=\"sk-toggleable__content\"><pre>KNeighborsClassifier(algorithm=&#x27;ball_tree&#x27;, metric=&#x27;cityblock&#x27;, n_neighbors=10)</pre></div></div></div></div></div>"
      ],
      "text/plain": [
       "KNeighborsClassifier(algorithm='ball_tree', metric='cityblock', n_neighbors=10)"
      ]
     },
     "execution_count": 64,
     "metadata": {},
     "output_type": "execute_result"
    }
   ],
   "source": [
    "model_opt2"
   ]
  },
  {
   "cell_type": "code",
   "execution_count": 65,
   "id": "89444a79",
   "metadata": {},
   "outputs": [],
   "source": [
    "df_parametros.to_csv('continuar_parametros.csv', index=False)"
   ]
  },
  {
   "cell_type": "code",
   "execution_count": 66,
   "id": "53b23c85",
   "metadata": {},
   "outputs": [
    {
     "data": {
      "text/html": [
       "<div>\n",
       "<style scoped>\n",
       "    .dataframe tbody tr th:only-of-type {\n",
       "        vertical-align: middle;\n",
       "    }\n",
       "\n",
       "    .dataframe tbody tr th {\n",
       "        vertical-align: top;\n",
       "    }\n",
       "\n",
       "    .dataframe thead th {\n",
       "        text-align: right;\n",
       "    }\n",
       "</style>\n",
       "<table border=\"1\" class=\"dataframe\">\n",
       "  <thead>\n",
       "    <tr style=\"text-align: right;\">\n",
       "      <th></th>\n",
       "      <th>n_neightbors</th>\n",
       "      <th>weights</th>\n",
       "      <th>algorithm</th>\n",
       "      <th>leaf_size</th>\n",
       "      <th>p</th>\n",
       "      <th>metric</th>\n",
       "      <th>Accuracy</th>\n",
       "    </tr>\n",
       "  </thead>\n",
       "  <tbody>\n",
       "    <tr>\n",
       "      <th>0</th>\n",
       "      <td>2</td>\n",
       "      <td>uniform</td>\n",
       "      <td>ball_tree</td>\n",
       "      <td>30</td>\n",
       "      <td>2</td>\n",
       "      <td>cityblock</td>\n",
       "      <td>0.621307</td>\n",
       "    </tr>\n",
       "  </tbody>\n",
       "</table>\n",
       "</div>"
      ],
      "text/plain": [
       "  n_neightbors  weights  algorithm leaf_size  p     metric  Accuracy\n",
       "0            2  uniform  ball_tree        30  2  cityblock  0.621307"
      ]
     },
     "execution_count": 66,
     "metadata": {},
     "output_type": "execute_result"
    }
   ],
   "source": [
    "df_parametros"
   ]
  },
  {
   "cell_type": "code",
   "execution_count": null,
   "id": "530725db",
   "metadata": {},
   "outputs": [],
   "source": []
  },
  {
   "cell_type": "code",
   "execution_count": null,
   "id": "08989103",
   "metadata": {},
   "outputs": [],
   "source": []
  }
 ],
 "metadata": {
  "kernelspec": {
   "display_name": "Python 3 (ipykernel)",
   "language": "python",
   "name": "python3"
  },
  "language_info": {
   "codemirror_mode": {
    "name": "ipython",
    "version": 3
   },
   "file_extension": ".py",
   "mimetype": "text/x-python",
   "name": "python",
   "nbconvert_exporter": "python",
   "pygments_lexer": "ipython3",
   "version": "3.10.9"
  }
 },
 "nbformat": 4,
 "nbformat_minor": 5
}
